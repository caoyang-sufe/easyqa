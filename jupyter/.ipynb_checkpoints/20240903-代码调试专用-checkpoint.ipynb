{
 "cells": [
  {
   "cell_type": "markdown",
   "metadata": {
    "toc": true
   },
   "source": [
    "<h1>Table of Contents<span class=\"tocSkip\"></span></h1>\n",
    "<div class=\"toc\"><ul class=\"toc-item\"></ul></div>"
   ]
  },
  {
   "cell_type": "code",
   "execution_count": 1,
   "metadata": {
    "ExecuteTime": {
     "end_time": "2024-09-03T08:43:20.203573Z",
     "start_time": "2024-09-03T08:43:20.197585Z"
    }
   },
   "outputs": [],
   "source": [
    "import os\n",
    "\n",
    "if not \"CHDIR_FLAG\" in dir():\n",
    "    os.chdir(\"../\")\n",
    "    CHDIR_FLAG = True\n",
    "else:\n",
    "    assert CHDIR_FLAG is True, CHDIR_FLAG"
   ]
  },
  {
   "cell_type": "code",
   "execution_count": 2,
   "metadata": {
    "ExecuteTime": {
     "end_time": "2024-09-03T08:43:28.399456Z",
     "start_time": "2024-09-03T08:43:24.619236Z"
    }
   },
   "outputs": [
    {
     "name": "stderr",
     "output_type": "stream",
     "text": [
      "E:\\Anaconda3\\envs\\py39-adapters\\lib\\site-packages\\tqdm\\auto.py:21: TqdmWarning: IProgress not found. Please update jupyter and ipywidgets. See https://ipywidgets.readthedocs.io/en/stable/user_install.html\n",
      "  from .autonotebook import tqdm as notebook_tqdm\n",
      "E:\\Anaconda3\\envs\\py39-adapters\\lib\\site-packages\\transformers\\adapters\\__init__.py:27: FutureWarning: The `adapter-transformers` package is deprecated and replaced by the `adapters` package. See https://docs.adapterhub.ml/transitioning.html.\n",
      "  warnings.warn(\n",
      "2024-09-03 16:43:27,648 | base.py | INFO | Check data directory: D:\\resource\\data\\RACE\n",
      "2024-09-03 16:43:27,649 | base.py | INFO | √ ./train/high/\n",
      "2024-09-03 16:43:27,650 | base.py | INFO | √ ./train/middle/\n",
      "2024-09-03 16:43:27,650 | base.py | INFO | √ ./dev/high/\n",
      "2024-09-03 16:43:27,651 | base.py | INFO | √ ./dev/middle/\n",
      "2024-09-03 16:43:27,651 | base.py | INFO | √ ./test/high/\n",
      "2024-09-03 16:43:27,652 | base.py | INFO | √ ./test/middle/\n"
     ]
    },
    {
     "name": "stdout",
     "output_type": "stream",
     "text": [
      "_test_race\n"
     ]
    },
    {
     "ename": "TypeError",
     "evalue": "__init__() takes 2 positional arguments but 3 were given",
     "output_type": "error",
     "traceback": [
      "\u001b[1;31m---------------------------------------------------------------------------\u001b[0m",
      "\u001b[1;31mTypeError\u001b[0m                                 Traceback (most recent call last)",
      "Cell \u001b[1;32mIn[2], line 164\u001b[0m\n\u001b[0;32m    159\u001b[0m \tterminate_logger(logger)\n\u001b[0;32m    162\u001b[0m \u001b[38;5;28;01mif\u001b[39;00m \u001b[38;5;18m__name__\u001b[39m \u001b[38;5;241m==\u001b[39m \u001b[38;5;124m\"\u001b[39m\u001b[38;5;124m__main__\u001b[39m\u001b[38;5;124m\"\u001b[39m:\n\u001b[0;32m    163\u001b[0m \t\u001b[38;5;66;03m# test_yield_batch()\u001b[39;00m\n\u001b[1;32m--> 164\u001b[0m \t\u001b[43mtest_generate_model_inputs\u001b[49m\u001b[43m(\u001b[49m\u001b[43m)\u001b[49m\n",
      "Cell \u001b[1;32mIn[2], line 157\u001b[0m, in \u001b[0;36mtest_generate_model_inputs\u001b[1;34m()\u001b[0m\n\u001b[0;32m    154\u001b[0m \t\t\t\u001b[38;5;28;01mbreak\u001b[39;00m\n\u001b[0;32m    156\u001b[0m logger \u001b[38;5;241m=\u001b[39m initialize_logger(os\u001b[38;5;241m.\u001b[39mpath\u001b[38;5;241m.\u001b[39mjoin(LOG_DIR, \u001b[38;5;124m\"\u001b[39m\u001b[38;5;124msanity.log\u001b[39m\u001b[38;5;124m\"\u001b[39m), \u001b[38;5;124m'\u001b[39m\u001b[38;5;124mw\u001b[39m\u001b[38;5;124m'\u001b[39m)\n\u001b[1;32m--> 157\u001b[0m \u001b[43m_test_race\u001b[49m\u001b[43m(\u001b[49m\u001b[43m)\u001b[49m\n\u001b[0;32m    158\u001b[0m \u001b[38;5;66;03m# _test_dream()\u001b[39;00m\n\u001b[0;32m    159\u001b[0m terminate_logger(logger)\n",
      "Cell \u001b[1;32mIn[2], line 128\u001b[0m, in \u001b[0;36mtest_generate_model_inputs.<locals>._test_race\u001b[1;34m()\u001b[0m\n\u001b[0;32m    126\u001b[0m model_path \u001b[38;5;241m=\u001b[39m MODEL_SUMMARY[RobertaLargeFinetunedRace\u001b[38;5;241m.\u001b[39mmodel_name][\u001b[38;5;124m\"\u001b[39m\u001b[38;5;124mpath\u001b[39m\u001b[38;5;124m\"\u001b[39m]\n\u001b[0;32m    127\u001b[0m dataset \u001b[38;5;241m=\u001b[39m RaceDataset(data_dir)\n\u001b[1;32m--> 128\u001b[0m model \u001b[38;5;241m=\u001b[39m \u001b[43mRobertaLargeFinetunedRace\u001b[49m\u001b[43m(\u001b[49m\u001b[43mmodel_path\u001b[49m\u001b[43m,\u001b[49m\u001b[43m \u001b[49m\u001b[43mdevice\u001b[49m\u001b[38;5;241;43m=\u001b[39;49m\u001b[38;5;124;43m\"\u001b[39;49m\u001b[38;5;124;43mcpu\u001b[39;49m\u001b[38;5;124;43m\"\u001b[39;49m\u001b[43m)\u001b[49m\n\u001b[0;32m    130\u001b[0m \u001b[38;5;28;01mfor\u001b[39;00m i, batch \u001b[38;5;129;01min\u001b[39;00m \u001b[38;5;28menumerate\u001b[39m(dataset\u001b[38;5;241m.\u001b[39myield_batch(batch_size\u001b[38;5;241m=\u001b[39m\u001b[38;5;241m2\u001b[39m, types\u001b[38;5;241m=\u001b[39m[\u001b[38;5;124m\"\u001b[39m\u001b[38;5;124mtrain\u001b[39m\u001b[38;5;124m\"\u001b[39m, \u001b[38;5;124m\"\u001b[39m\u001b[38;5;124mdev\u001b[39m\u001b[38;5;124m\"\u001b[39m], difficulties\u001b[38;5;241m=\u001b[39m[\u001b[38;5;124m\"\u001b[39m\u001b[38;5;124mhigh\u001b[39m\u001b[38;5;124m\"\u001b[39m])):\n\u001b[0;32m    131\u001b[0m \tmodel_inputs \u001b[38;5;241m=\u001b[39m RaceDataset\u001b[38;5;241m.\u001b[39mgenerate_model_inputs(batch, model\u001b[38;5;241m.\u001b[39mtokenizer, model\u001b[38;5;241m.\u001b[39mmodel_name, max_length\u001b[38;5;241m=\u001b[39m\u001b[38;5;241m32\u001b[39m)\n",
      "File \u001b[1;32mD:\\code\\python\\project\\caoyang\\project_019_llm_reasoning\\easyqa\\src\\models\\multiple_choice.py:22\u001b[0m, in \u001b[0;36mRobertaLargeFinetunedRace.__init__\u001b[1;34m(self, model_path, device)\u001b[0m\n\u001b[0;32m     21\u001b[0m \u001b[38;5;28;01mdef\u001b[39;00m \u001b[38;5;21m__init__\u001b[39m(\u001b[38;5;28mself\u001b[39m, model_path, device\u001b[38;5;241m=\u001b[39m\u001b[38;5;124m\"\u001b[39m\u001b[38;5;124mcpu\u001b[39m\u001b[38;5;124m\"\u001b[39m):\n\u001b[1;32m---> 22\u001b[0m \t\u001b[38;5;28;43msuper\u001b[39;49m\u001b[43m(\u001b[49m\u001b[43mRobertaLargeFinetunedRace\u001b[49m\u001b[43m,\u001b[49m\u001b[43m \u001b[49m\u001b[38;5;28;43mself\u001b[39;49m\u001b[43m)\u001b[49m\u001b[38;5;241;43m.\u001b[39;49m\u001b[38;5;21;43m__init__\u001b[39;49m\u001b[43m(\u001b[49m\u001b[43mmodel_path\u001b[49m\u001b[43m,\u001b[49m\u001b[43m \u001b[49m\u001b[43mdevice\u001b[49m\u001b[43m)\u001b[49m\n",
      "\u001b[1;31mTypeError\u001b[0m: __init__() takes 2 positional arguments but 3 were given"
     ]
    }
   ],
   "source": [
    "# -*- coding: utf-8 -*-\n",
    "# @author : caoyang\n",
    "# @email: caoyang@stu.sufe.edu.cn\n",
    "\n",
    "import os\n",
    "import gc\n",
    "import torch\n",
    "\n",
    "from settings import DATA_DIR, LOG_DIR, MODEL_ROOT, DATA_SUMMARY, MODEL_SUMMARY\n",
    "\n",
    "from src.datasets import RaceDataset, DreamDataset, SquadDataset, HotpotqaDataset, MusiqueDataset, TriviaqaDataset\n",
    "from src.models import RobertaLargeFinetunedRace\n",
    "from src.tools.easy import initialize_logger, terminate_logger\n",
    "\n",
    "def test_yield_batch():\n",
    "\t# data_dir = r\"D:\\data\"\t# Lab PC\n",
    "\t# data_dir = r\"D:\\resource\\data\"\t# Region Laptop\n",
    "\tdata_dir = DATA_DIR\t# default\n",
    "\tdata_dir_race = DATA_SUMMARY[\"RACE\"][\"path\"]\n",
    "\tdata_dir_dream = DATA_SUMMARY[\"DREAM\"][\"path\"]\n",
    "\tdata_dir_squad = DATA_SUMMARY[\"SQuAD\"][\"path\"]\n",
    "\tdata_dir_hotpotqa = DATA_SUMMARY[\"HotpotQA\"][\"path\"]\n",
    "\tdata_dir_musique = DATA_SUMMARY[\"Musique\"][\"path\"]\n",
    "\tdata_dir_triviaqa = DATA_SUMMARY[\"TriviaQA\"][\"path\"]\n",
    "\t\t\n",
    "\t# RACE\n",
    "\tdef _test_race():\n",
    "\t\tprint(_test_race.__name__)\n",
    "\t\tdataset = RaceDataset(data_dir=data_dir_race)\n",
    "\t\tfor batch in dataset.yield_batch(batch_size=2, types=[\"train\", \"dev\"], difficulties=[\"high\"]):\n",
    "\t\t\tpass\n",
    "\t# DREAM\n",
    "\tdef _test_dream():\n",
    "\t\tprint(_test_dream.__name__)\n",
    "\t\tdataset = DreamDataset(data_dir=data_dir_dream)\n",
    "\t\tfor batch in dataset.yield_batch(batch_size=2, types=[\"train\", \"dev\"]):\n",
    "\t\t\tpass\n",
    "\t# SQuAD\n",
    "\tdef _test_squad():\n",
    "\t\tprint(_test_squad.__name__)\n",
    "\t\tdataset = SquadDataset(data_dir=data_dir_squad)\n",
    "\t\tversions = [\"1.1\"]\n",
    "\t\ttypes = [\"train\", \"dev\"]\n",
    "\t\tfor version in versions:\n",
    "\t\t\tfor type_ in types:\n",
    "\t\t\t\tfor i, batch in enumerate(dataset.yield_batch(batch_size=2, version=version, type_=type_)):\n",
    "\t\t\t\t\tif i > 5:\n",
    "\t\t\t\t\t\tbreak\n",
    "\t\t\t\t\tprint(batch)\n",
    "\t# HotpotQA\n",
    "\tdef _test_hotpotqa():\n",
    "\t\tprint(_test_hotpotqa.__name__)\n",
    "\t\tdataset = HotpotqaDataset(data_dir=data_dir_hotpotqa)\n",
    "\t\tfilenames = [\"hotpot_train_v1.1.json\",\n",
    "\t\t\t\t\t \"hotpot_dev_distractor_v1.json\",\n",
    "\t\t\t\t\t \"hotpot_dev_fullwiki_v1.json\",\n",
    "\t\t\t\t\t \"hotpot_test_fullwiki_v1.json\",\n",
    "\t\t\t\t\t ]\n",
    "\t\tfor filename in filenames:\n",
    "\t\t\tfor i, batch in enumerate(dataset.yield_batch(batch_size=2, filename=filename)):\n",
    "\t\t\t\tif i > 5:\n",
    "\t\t\t\t\tbreak\n",
    "\t\t\t\tprint(batch)\n",
    "\t# Musique\n",
    "\tdef _test_musique():\n",
    "\t\tprint(_test_musique.__name__)\n",
    "\t\tbatch_size = 2\n",
    "\t\tdataset = MusiqueDataset(data_dir=data_dir_musique)\n",
    "\t\ttypes = [\"train\", \"dev\", \"test\"]\n",
    "\t\tcategories = [\"ans\", \"full\"]\n",
    "\t\tanswerables = [True, False]\n",
    "\t\tfor type_ in types:\n",
    "\t\t\tfor category in categories:\n",
    "\t\t\t\tif category == \"full\":\n",
    "\t\t\t\t\tfor answerable in answerables:\n",
    "\t\t\t\t\t\tprint(f\"======== {type_} - {category} - {answerable} ========\")\n",
    "\t\t\t\t\t\tfor i, batch in enumerate(dataset.yield_batch(batch_size, type_, category, answerable)):\n",
    "\t\t\t\t\t\t\tif i > 5:\n",
    "\t\t\t\t\t\t\t\tbreak\n",
    "\t\t\t\t\t\t\tprint(batch)\n",
    "\t\t\t\telse:\n",
    "\t\t\t\t\tprint(f\"======== {type_} - {category} ========\")\n",
    "\t\t\t\t\tfor i, batch in enumerate(dataset.yield_batch(batch_size, type_, category)):\n",
    "\t\t\t\t\t\tif i > 5:\n",
    "\t\t\t\t\t\t\tbreak\n",
    "\t\t\t\t\t\tprint(batch)\t\t\t\t\n",
    "\t\t\t\t\t\t\t\t\n",
    "\t# TriviaQA\n",
    "\tdef _test_triviaqa():\n",
    "\t\tprint(_test_triviaqa.__name__)\n",
    "\t\tbatch_size = 2\n",
    "\t\tdataset = TriviaqaDataset(data_dir=data_dir_triviaqa)\n",
    "\t\ttypes = [\"verified\", \"train\", \"dev\", \"test\"]\n",
    "\t\tcategories = [\"web\", \"wikipedia\"]\n",
    "\t\tfor type_ in types:\n",
    "\t\t\tfor category in categories:\n",
    "\t\t\t\tprint(f\"======== {type_} - {category} ========\")\n",
    "\t\t\t\tfor i, batch in enumerate(dataset.yield_batch(batch_size, type_, category, False)):\n",
    "\t\t\t\t\tif i > 5:\n",
    "\t\t\t\t\t\tbreak\n",
    "\t\t\t\t\tprint(batch)\t\n",
    "\t\tgc.collect()\n",
    "\t\tfor type_ in [\"train\", \"dev\", \"test\"]:\n",
    "\t\t\tprint(f\"======== {type_} - unfiltered ========\")\n",
    "\t\t\tfor i, batch in enumerate(dataset.yield_batch(batch_size, type_, \"web\", True)):\n",
    "\t\t\t\tif i > 5:\n",
    "\t\t\t\t\tbreak\n",
    "\t\t\t\tprint(batch)\n",
    "\n",
    "\t# Test\t\t\n",
    "\tlogger = initialize_logger(os.path.join(LOG_DIR, \"sanity.log\"), 'w')\n",
    "\t# _test_race()\n",
    "\t# _test_dream()\n",
    "\t# _test_squad()\n",
    "\t_test_hotpotqa()\n",
    "\t# _test_musique()\n",
    "\t# _test_triviaqa()\n",
    "\tterminate_logger(logger)\n",
    "\n",
    "\n",
    "def test_generate_model_inputs():\n",
    "\t\n",
    "\tdef _test_race():\n",
    "\t\tprint(_test_race.__name__)\n",
    "\t\tdata_dir = DATA_SUMMARY[RaceDataset.dataset_name][\"path\"]\n",
    "\t\tmodel_path = MODEL_SUMMARY[RobertaLargeFinetunedRace.model_name][\"path\"]\n",
    "\t\tdataset = RaceDataset(data_dir)\n",
    "\t\tmodel = RobertaLargeFinetunedRace(model_path, device=\"cpu\")\n",
    "\n",
    "\t\tfor i, batch in enumerate(dataset.yield_batch(batch_size=2, types=[\"train\", \"dev\"], difficulties=[\"high\"])):\n",
    "\t\t\tmodel_inputs = RaceDataset.generate_model_inputs(batch, model.tokenizer, model.model_name, max_length=32)\n",
    "\t\t\tprint(model_inputs)\n",
    "\t\t\tprint('-' * 32)\n",
    "\t\t\tmodel_inputs = model.generate_model_inputs(batch, max_length=32)\n",
    "\t\t\tprint(model_inputs)\n",
    "\t\t\tprint('#' * 32)\n",
    "\t\t\tif i > 5:\n",
    "\t\t\t\tbreak\n",
    "\n",
    "\tdef _test_dream():\n",
    "\t\tprint(_test_dream.__name__)\n",
    "\t\tdata_dir = DATA_SUMMARY[DreamDataset.dataset_name][\"path\"] \n",
    "\t\tmodel_path = MODEL_SUMMARY[RobertaLargeFinetunedRace.model_name][\"path\"]\n",
    "\t\tdataset = DreamDataset(data_dir)\n",
    "\t\tmodel = RobertaLargeFinetunedRace(model_path, device=\"cpu\")\n",
    "\t\tfor i, batch in enumerate(dataset.yield_batch(batch_size=2, types=[\"train\", \"dev\"])):\n",
    "\t\t\tmodel_inputs = DreamDataset.generate_model_inputs(batch, model.tokenizer, model.model_name, max_length=32)\n",
    "\t\t\tprint(model_inputs)\n",
    "\t\t\tprint('-' * 32)\n",
    "\t\t\tmodel_inputs = model.generate_model_inputs(batch, max_length=32)\n",
    "\t\t\tprint(model_inputs)\n",
    "\t\t\tprint('#' * 32)\n",
    "\t\t\tif i > 5:\n",
    "\t\t\t\tbreak\n",
    "\t\n",
    "\tlogger = initialize_logger(os.path.join(LOG_DIR, \"sanity.log\"), 'w')\n",
    "\t_test_race()\n",
    "\t# _test_dream()\n",
    "\tterminate_logger(logger)\n",
    "\n",
    "\n",
    "if __name__ == \"__main__\":\n",
    "\t# test_yield_batch()\n",
    "\ttest_generate_model_inputs()\n"
   ]
  }
 ],
 "metadata": {
  "kernelspec": {
   "display_name": "py39-adapters-jupyter",
   "language": "python",
   "name": "py39-adapters"
  },
  "language_info": {
   "codemirror_mode": {
    "name": "ipython",
    "version": 3
   },
   "file_extension": ".py",
   "mimetype": "text/x-python",
   "name": "python",
   "nbconvert_exporter": "python",
   "pygments_lexer": "ipython3",
   "version": "3.9.18"
  },
  "toc": {
   "base_numbering": 1,
   "nav_menu": {},
   "number_sections": true,
   "sideBar": true,
   "skip_h1_title": false,
   "title_cell": "Table of Contents",
   "title_sidebar": "Contents",
   "toc_cell": true,
   "toc_position": {},
   "toc_section_display": true,
   "toc_window_display": false
  },
  "varInspector": {
   "cols": {
    "lenName": 16,
    "lenType": 16,
    "lenVar": 40
   },
   "kernels_config": {
    "python": {
     "delete_cmd_postfix": "",
     "delete_cmd_prefix": "del ",
     "library": "var_list.py",
     "varRefreshCmd": "print(var_dic_list())"
    },
    "r": {
     "delete_cmd_postfix": ") ",
     "delete_cmd_prefix": "rm(",
     "library": "var_list.r",
     "varRefreshCmd": "cat(var_dic_list()) "
    }
   },
   "types_to_exclude": [
    "module",
    "function",
    "builtin_function_or_method",
    "instance",
    "_Feature"
   ],
   "window_display": false
  }
 },
 "nbformat": 4,
 "nbformat_minor": 2
}
